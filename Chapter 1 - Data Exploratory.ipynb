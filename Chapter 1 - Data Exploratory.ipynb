{
 "cells": [
  {
   "cell_type": "markdown",
   "id": "d77eb96d",
   "metadata": {},
   "source": [
    "<img src = \"https://escp.eu/sites/default/files/logo/ESCP-logo-white-misalign.svg\" width = 400 style=\"background-color: #240085;\">\n",
    "<h1 align=center><font size = 6>ESCP Business School</font></h1>\n",
    "<h3 align=center><font size = 5>SCOR Datathon</font><br/>\n",
    "<font size = 3>The Data Science Challenge Bridging Indian Agricultureal Protection Gap</font></h3>\n",
    "<h6 align=center>Chapter 1 - Data Exploratory</h6>"
   ]
  },
  {
   "cell_type": "markdown",
   "id": "edf58273",
   "metadata": {},
   "source": [
    "Last Updated: December 05, 2021\\\n",
    "Author: Group 21 - Anniek Brink, Jeanne Dubois, and Resha Dirga"
   ]
  },
  {
   "cell_type": "markdown",
   "id": "6d7f1ebd",
   "metadata": {},
   "source": [
    "<h3>Chapter Objectives</h3>\n",
    "\n",
    "<p>This chapter aims to get the overview of the datasets that will has been provided on this challenge. The analysis will use the merged and updated datasets from Chapter 0 - Data Preparation. Based on the analysis, the next step to preprocess the dataset will be determined before proceeding to clustering process.</p>\n",
    "\n",
    "<i>Please see the Glossary (filename: <u>Datathon_2021_Glossary.docx</u>) for the explanation of each column contained in the datasets.</i>"
   ]
  },
  {
   "cell_type": "markdown",
   "id": "217e025e",
   "metadata": {},
   "source": [
    "<h3>Chapter 1: Import modules</h3>\n",
    "<p>This chapter lists all modules that being used on this document. The module import process will be performed on this chapter</p>"
   ]
  },
  {
   "cell_type": "code",
   "execution_count": 1,
   "id": "cb5e2551",
   "metadata": {},
   "outputs": [],
   "source": [
    "import numpy as np\n",
    "import pandas as pd\n",
    "\n",
    "import matplotlib.pyplot as plt\n",
    "import seaborn as sns"
   ]
  },
  {
   "cell_type": "markdown",
   "id": "e1c62b14",
   "metadata": {},
   "source": [
    "<h3>Chapter 2: Read datasets</h3>\n",
    "<p>This chapter reads the merged datasets and provides a quick overview of each datasets, i.e.: the first five line of each dataset, information of the data types and the summary of all numerical values.</p>"
   ]
  },
  {
   "cell_type": "markdown",
   "id": "12bc05d9",
   "metadata": {},
   "source": [
    "<h5>Chapter 2.1 - Read merged datasets</h5>"
   ]
  },
  {
   "cell_type": "code",
   "execution_count": 2,
   "id": "e5a23f9d",
   "metadata": {},
   "outputs": [],
   "source": [
    "# List of file directories\n",
    "merged_filenames = [\n",
    "    \"datasets_merged/df_kharif_merged_full.csv\",\n",
    "    \"datasets_merged/df_rabi_merged_full.csv\"\n",
    "]"
   ]
  },
  {
   "cell_type": "code",
   "execution_count": 3,
   "id": "cf4eb42d",
   "metadata": {},
   "outputs": [
    {
     "name": "stderr",
     "output_type": "stream",
     "text": [
      "/Users/admin/opt/anaconda3/lib/python3.8/site-packages/IPython/core/interactiveshell.py:3172: DtypeWarning: Columns (5,6) have mixed types.Specify dtype option on import or set low_memory=False.\n",
      "  has_raised = await self.run_ast_nodes(code_ast.body, cell_name,\n",
      "/Users/admin/opt/anaconda3/lib/python3.8/site-packages/IPython/core/interactiveshell.py:3172: DtypeWarning: Columns (6) have mixed types.Specify dtype option on import or set low_memory=False.\n",
      "  has_raised = await self.run_ast_nodes(code_ast.body, cell_name,\n"
     ]
    }
   ],
   "source": [
    "# Store datasets in a dataframe\n",
    "df = {}\n",
    "for filename in merged_filenames:\n",
    "    df[filename] = pd.read_csv(filename, delimiter=\";\",index_col = 0)"
   ]
  },
  {
   "cell_type": "code",
   "execution_count": 4,
   "id": "99309cbb",
   "metadata": {},
   "outputs": [],
   "source": [
    "# Create a function for indexing the specific dataset\n",
    "def df_shorten(season):\n",
    "    if  season == \"kharif\":\n",
    "        return df[list(df.keys())[0]]\n",
    "    elif season == \"rabi\":\n",
    "        return df[list(df.keys())[1]]\n",
    "    else:\n",
    "        print(\"Data is out of range. Available season data: kharif, rabi (case sensitive)\")\n",
    "        return"
   ]
  },
  {
   "cell_type": "markdown",
   "id": "e0a8983f",
   "metadata": {},
   "source": [
    "<h5>Chapter 2.2 - Dataset overview</h5>"
   ]
  },
  {
   "cell_type": "code",
   "execution_count": 5,
   "id": "5112f56e",
   "metadata": {},
   "outputs": [],
   "source": [
    "# Setup viewing parameter for dataset overview\n",
    "pd.set_option('display.max_columns', None)"
   ]
  },
  {
   "cell_type": "code",
   "execution_count": 6,
   "id": "22ee6870",
   "metadata": {
    "scrolled": true
   },
   "outputs": [
    {
     "name": "stdout",
     "output_type": "stream",
     "text": [
      "\n",
      "datasets_merged/df_kharif_merged_full.csv\n",
      "----------\n",
      "<class 'pandas.core.frame.DataFrame'>\n",
      "Int64Index: 511242 entries, 0 to 511241\n",
      "Data columns (total 33 columns):\n",
      " #   Column              Non-Null Count   Dtype  \n",
      "---  ------              --------------   -----  \n",
      " 0   State               511242 non-null  object \n",
      " 1   Cluster             511242 non-null  int64  \n",
      " 2   District            511242 non-null  object \n",
      " 3   Sub-District        429814 non-null  object \n",
      " 4   Block               365178 non-null  object \n",
      " 5   GP                  374588 non-null  object \n",
      " 6   Season              511242 non-null  object \n",
      " 7   Crop                511242 non-null  object \n",
      " 8   Area Sown (Ha)      235991 non-null  float64\n",
      " 9   Area Insured (Ha)   457488 non-null  float64\n",
      " 10  SI Per Ha (Inr/Ha)  483683 non-null  float64\n",
      " 11  Sum Insured (Inr)   374695 non-null  float64\n",
      " 12  Indemnity Level     511242 non-null  float64\n",
      " 13  2000 Yield          13682 non-null   float64\n",
      " 14  2001 Yield          13664 non-null   float64\n",
      " 15  2002 Yield          14683 non-null   float64\n",
      " 16  2003 Yield          167861 non-null  float64\n",
      " 17  2004 Yield          163964 non-null  float64\n",
      " 18  2005 Yield          256027 non-null  float64\n",
      " 19  2006 Yield          378226 non-null  float64\n",
      " 20  2007 Yield          420849 non-null  float64\n",
      " 21  2008 Yield          424897 non-null  float64\n",
      " 22  2009 Yield          439827 non-null  float64\n",
      " 23  2010 Yield          508501 non-null  float64\n",
      " 24  2011 Yield          509426 non-null  float64\n",
      " 25  2012 Yield          508701 non-null  float64\n",
      " 26  2013 Yield          508570 non-null  float64\n",
      " 27  2014 Yield          487322 non-null  float64\n",
      " 28  2015 Yield          504066 non-null  float64\n",
      " 29  2016 Yield          402747 non-null  float64\n",
      " 30  2017 Yield          110356 non-null  float64\n",
      " 31  2018 Yield          0 non-null       float64\n",
      " 32  ID                  511242 non-null  object \n",
      "dtypes: float64(24), int64(1), object(8)\n",
      "memory usage: 132.6+ MB\n",
      "<<=====================>>\n",
      "\n",
      "datasets_merged/df_rabi_merged_full.csv\n",
      "----------\n",
      "<class 'pandas.core.frame.DataFrame'>\n",
      "Int64Index: 616791 entries, 0 to 616790\n",
      "Data columns (total 33 columns):\n",
      " #   Column              Non-Null Count   Dtype  \n",
      "---  ------              --------------   -----  \n",
      " 0   State               616791 non-null  object \n",
      " 1   Cluster             616760 non-null  float64\n",
      " 2   District            616791 non-null  object \n",
      " 3   Sub-District        597757 non-null  object \n",
      " 4   Block               547623 non-null  object \n",
      " 5   GP                  491603 non-null  object \n",
      " 6   Season              616791 non-null  object \n",
      " 7   Crop                616791 non-null  object \n",
      " 8   Area Sown (Ha)      244213 non-null  float64\n",
      " 9   Area Insured (Ha)   557420 non-null  float64\n",
      " 10  SI Per Ha (Inr/Ha)  616468 non-null  float64\n",
      " 11  Sum Insured (Inr)   379426 non-null  float64\n",
      " 12  Indemnity Level     616791 non-null  float64\n",
      " 13  2002 Yield          30033 non-null   float64\n",
      " 14  2003 Yield          387439 non-null  float64\n",
      " 15  2004 Yield          390870 non-null  float64\n",
      " 16  2005 Yield          465453 non-null  float64\n",
      " 17  2006 Yield          551699 non-null  float64\n",
      " 18  2007 Yield          561989 non-null  float64\n",
      " 19  2008 Yield          605236 non-null  float64\n",
      " 20  2009 Yield          615259 non-null  float64\n",
      " 21  2010 Yield          616274 non-null  float64\n",
      " 22  2011 Yield          616554 non-null  float64\n",
      " 23  2012 Yield          616474 non-null  float64\n",
      " 24  2013 Yield          616544 non-null  float64\n",
      " 25  2014 Yield          611386 non-null  float64\n",
      " 26  2015 Yield          522308 non-null  float64\n",
      " 27  2016 Yield          115906 non-null  float64\n",
      " 28  2000 Yield          789 non-null     float64\n",
      " 29  2001 Yield          789 non-null     float64\n",
      " 30  ID                  616791 non-null  object \n",
      " 31  2017 Yield          37804 non-null   float64\n",
      " 32  2018 Yield          0 non-null       float64\n",
      "dtypes: float64(25), object(8)\n",
      "memory usage: 160.0+ MB\n",
      "<<=====================>>\n"
     ]
    }
   ],
   "source": [
    "# Print datasets info\n",
    "for index in merged_filenames:\n",
    "    print('')\n",
    "    print(index)\n",
    "    print('----------')\n",
    "    df[index].info()\n",
    "    print('<<=====================>>')"
   ]
  },
  {
   "cell_type": "code",
   "execution_count": 7,
   "id": "6316e885",
   "metadata": {
    "scrolled": true
   },
   "outputs": [
    {
     "name": "stdout",
     "output_type": "stream",
     "text": [
      "\n",
      "datasets_merged/df_kharif_merged_full.csv\n",
      "----------\n",
      "            State  Cluster   District Sub-District Block                   GP  \\\n",
      "0  andhra pradesh        1  anantapur        agali   NaN                agali   \n",
      "1  andhra pradesh        1  anantapur        agali   NaN  akkagaladevarahalli   \n",
      "2  andhra pradesh        1  anantapur        agali   NaN  hulikeradevarahalli   \n",
      "3  andhra pradesh        1  anantapur        agali   NaN            inagalore   \n",
      "4  andhra pradesh        1  anantapur        agali   NaN            kodihalli   \n",
      "\n",
      "   Season   Crop  Area Sown (Ha)  Area Insured (Ha)  SI Per Ha (Inr/Ha)  \\\n",
      "0  kharif  arhar       40.623418           0.168514             28750.0   \n",
      "1  kharif  arhar       40.623418           0.168514             28750.0   \n",
      "2  kharif  arhar       40.623418           0.168514             28750.0   \n",
      "3  kharif  arhar       40.623418           0.168514             28750.0   \n",
      "4  kharif  arhar       40.623418           0.168514             28750.0   \n",
      "\n",
      "   Sum Insured (Inr)  Indemnity Level  2000 Yield  2001 Yield  2002 Yield  \\\n",
      "0        4844.772967              0.8         NaN         NaN         NaN   \n",
      "1        4844.772967              0.8         NaN         NaN         NaN   \n",
      "2        4844.772967              0.8         NaN         NaN         NaN   \n",
      "3        4844.772967              0.8         NaN         NaN         NaN   \n",
      "4        4844.772967              0.8         NaN         NaN         NaN   \n",
      "\n",
      "   2003 Yield  2004 Yield  2005 Yield  2006 Yield  2007 Yield  2008 Yield  \\\n",
      "0         NaN         NaN         NaN  141.792547   463.99375  343.818182   \n",
      "1         NaN         NaN         NaN  141.792547   463.99375  343.818182   \n",
      "2         NaN         NaN         NaN  141.792547   463.99375  343.818182   \n",
      "3         NaN         NaN         NaN  141.792547   463.99375  343.818182   \n",
      "4         NaN         NaN         NaN  141.792547   463.99375  343.818182   \n",
      "\n",
      "   2009 Yield  2010 Yield  2011 Yield  2012 Yield  2013 Yield  2014 Yield  \\\n",
      "0  264.534667  150.820333   87.096222     108.775        70.0       295.0   \n",
      "1  264.534667  150.820333   87.096222     108.775        58.0       232.0   \n",
      "2  264.534667  150.820333   87.096222     108.775        67.0       295.0   \n",
      "3  264.534667  150.820333   87.096222     108.775        62.0       232.0   \n",
      "4  264.534667  150.820333   87.096222     108.775        70.0       295.0   \n",
      "\n",
      "   2015 Yield  2016 Yield  2017 Yield  2018 Yield  \\\n",
      "0        89.0        99.0         NaN         NaN   \n",
      "1       120.0        99.0         NaN         NaN   \n",
      "2        89.0        99.0         NaN         NaN   \n",
      "3       120.0        99.0         NaN         NaN   \n",
      "4        89.0        99.0         NaN         NaN   \n",
      "\n",
      "                                                  ID  \n",
      "0  ID|andhra pradesh|1|anantapur|agali|nan|agali|...  \n",
      "1  ID|andhra pradesh|1|anantapur|agali|nan|akkaga...  \n",
      "2  ID|andhra pradesh|1|anantapur|agali|nan|hulike...  \n",
      "3  ID|andhra pradesh|1|anantapur|agali|nan|inagal...  \n",
      "4  ID|andhra pradesh|1|anantapur|agali|nan|kodiha...  \n",
      "<<=====================>>\n",
      "\n",
      "datasets_merged/df_rabi_merged_full.csv\n",
      "----------\n",
      "            State  Cluster  District Sub-District Block   GP Season  \\\n",
      "0  andhra pradesh      2.0  cuddapah            1   NaN  NaN   rabi   \n",
      "1  andhra pradesh      2.0  cuddapah            2   NaN  NaN   rabi   \n",
      "2  andhra pradesh      2.0  cuddapah            3   NaN  NaN   rabi   \n",
      "3  andhra pradesh      2.0  cuddapah            4   NaN  NaN   rabi   \n",
      "4  andhra pradesh      2.0  cuddapah            5   NaN  NaN   rabi   \n",
      "\n",
      "                  Crop  Area Sown (Ha)  Area Insured (Ha)  SI Per Ha (Inr/Ha)  \\\n",
      "0  bengal gram (chana)             NaN        6561.687917             50000.0   \n",
      "1  bengal gram (chana)             NaN        6561.687917             50000.0   \n",
      "2  bengal gram (chana)             NaN        6561.687917             50000.0   \n",
      "3  bengal gram (chana)             NaN        6561.687917             50000.0   \n",
      "4  bengal gram (chana)             NaN        6561.687917             50000.0   \n",
      "\n",
      "   Sum Insured (Inr)  Indemnity Level  2002 Yield  2003 Yield  2004 Yield  \\\n",
      "0       3.280844e+08              0.7         NaN         NaN         NaN   \n",
      "1       3.280844e+08              0.7         NaN         NaN         NaN   \n",
      "2       3.280844e+08              0.7         NaN         NaN         NaN   \n",
      "3       3.280844e+08              0.7         NaN         NaN         NaN   \n",
      "4       3.280844e+08              0.7         NaN         NaN         NaN   \n",
      "\n",
      "   2005 Yield  2006 Yield  2007 Yield  2008 Yield  2009 Yield  2010 Yield  \\\n",
      "0         NaN       455.0      1296.0       944.0       493.0      1105.0   \n",
      "1         NaN       455.0      1296.0       944.0       493.0      1105.0   \n",
      "2         NaN       455.0      1296.0       944.0       493.0      1105.0   \n",
      "3         NaN       455.0      1296.0       944.0       493.0      1105.0   \n",
      "4         NaN       455.0      1296.0       944.0       493.0      1105.0   \n",
      "\n",
      "   2011 Yield  2012 Yield  2013 Yield  2014 Yield  2015 Yield  2016 Yield  \\\n",
      "0      1029.0       270.0      1741.0      4801.0      1542.0  185.135135   \n",
      "1      1831.0       539.0      1768.0      6505.0       848.0  185.135135   \n",
      "2       209.0       121.0       754.0      2444.0       956.0  185.135135   \n",
      "3       777.0       191.0      1505.0      3423.0      1030.0  185.135135   \n",
      "4      1623.0        53.0      1449.0      4646.0      1361.0  185.135135   \n",
      "\n",
      "   2000 Yield  2001 Yield                                                 ID  \\\n",
      "0         NaN         NaN  ID|andhra pradesh|2.0|cuddapah|1|nan|nan|rabi|...   \n",
      "1         NaN         NaN  ID|andhra pradesh|2.0|cuddapah|2|nan|nan|rabi|...   \n",
      "2         NaN         NaN  ID|andhra pradesh|2.0|cuddapah|3|nan|nan|rabi|...   \n",
      "3         NaN         NaN  ID|andhra pradesh|2.0|cuddapah|4|nan|nan|rabi|...   \n",
      "4         NaN         NaN  ID|andhra pradesh|2.0|cuddapah|5|nan|nan|rabi|...   \n",
      "\n",
      "   2017 Yield  2018 Yield  \n",
      "0         NaN         NaN  \n",
      "1         NaN         NaN  \n",
      "2         NaN         NaN  \n",
      "3         NaN         NaN  \n",
      "4         NaN         NaN  \n",
      "<<=====================>>\n"
     ]
    }
   ],
   "source": [
    "# Print datasets first five lines\n",
    "for index in merged_filenames:\n",
    "    print('')\n",
    "    print(index)\n",
    "    print('----------')\n",
    "    print(df[index].head())\n",
    "    print('<<=====================>>')"
   ]
  },
  {
   "cell_type": "code",
   "execution_count": 8,
   "id": "d9deedaa",
   "metadata": {},
   "outputs": [
    {
     "name": "stdout",
     "output_type": "stream",
     "text": [
      "\n",
      "datasets_merged/df_kharif_merged_full.csv\n",
      "----------\n",
      "             Cluster  Area Sown (Ha)  Area Insured (Ha)  SI Per Ha (Inr/Ha)  \\\n",
      "count  511242.000000   235991.000000      457488.000000       483683.000000   \n",
      "mean        4.812815      414.274412         150.941875        38769.584908   \n",
      "std         2.889222     1188.494481         655.212038        21618.881634   \n",
      "min         1.000000        0.000000           0.000000         1400.000000   \n",
      "25%         2.000000       78.093023           1.404914        20524.000000   \n",
      "50%         4.000000      170.689798          34.188941        36000.000000   \n",
      "75%         7.000000      376.251451         147.058824        51686.000000   \n",
      "max        12.000000    85824.000000       85300.000000       250000.000000   \n",
      "\n",
      "       Sum Insured (Inr)  Indemnity Level    2000 Yield    2001 Yield  \\\n",
      "count       3.746950e+05    511242.000000  13682.000000  13664.000000   \n",
      "mean        1.015820e+07         0.810371   1547.075772   2334.428377   \n",
      "std         4.445806e+07         0.053907    818.204293    701.544538   \n",
      "min         0.000000e+00         0.700000     41.000000    160.000000   \n",
      "25%         1.534020e+06         0.800000    953.000000   1795.500000   \n",
      "50%         4.014435e+06         0.800000   1470.000000   2258.000000   \n",
      "75%         8.939241e+06         0.800000   2107.000000   2803.625000   \n",
      "max         2.510902e+09         0.900000   4016.000000   5264.000000   \n",
      "\n",
      "         2002 Yield     2003 Yield     2004 Yield     2005 Yield  \\\n",
      "count  14683.000000  167861.000000  163964.000000  256027.000000   \n",
      "mean    1132.226120    1399.610883    1293.314316    1537.812481   \n",
      "std      689.865052     897.713063     971.385573    1389.992692   \n",
      "min       16.000000       3.000000       8.000000       0.000000   \n",
      "25%      603.000000     707.000000     617.000000     715.000000   \n",
      "50%     1025.000000    1311.000000    1109.000000    1276.000000   \n",
      "75%     1416.000000    2074.000000    1873.000000    2122.000000   \n",
      "max     5533.000000   36016.000000   66476.000000   82347.530000   \n",
      "\n",
      "          2006 Yield     2007 Yield     2008 Yield     2009 Yield  \\\n",
      "count  378226.000000  420849.000000  424897.000000  439827.000000   \n",
      "mean     1336.485891    1598.114472    1722.236824    1589.113164   \n",
      "std      1346.274285    1384.433337    4049.128244    4156.989528   \n",
      "min         0.000000       0.000000       0.000000       0.000000   \n",
      "25%       555.150000     664.000000     648.000000     495.000000   \n",
      "50%      1095.000000    1348.000000    1309.000000    1164.000000   \n",
      "75%      1897.000000    2283.000000    2240.000000    2131.000000   \n",
      "max     91155.160000   81113.080000  139800.000000  165066.667000   \n",
      "\n",
      "          2010 Yield     2011 Yield     2012 Yield     2013 Yield  \\\n",
      "count  508501.000000  509426.000000  508701.000000  508570.000000   \n",
      "mean     1736.549001    1826.527674    1943.792089    1876.390865   \n",
      "std      3878.296380    4381.368868    4236.484724    4278.028470   \n",
      "min         0.000000       0.000000       0.000000       0.000000   \n",
      "25%       734.400000     756.000000     760.000000     680.000000   \n",
      "50%      1321.000000    1317.000000    1475.000000    1349.000000   \n",
      "75%      2149.000000    2317.000000    2502.000000    2480.000000   \n",
      "max    129974.000000  147566.667000  140100.000000  149200.000000   \n",
      "\n",
      "          2014 Yield     2015 Yield     2016 Yield     2017 Yield  2018 Yield  \n",
      "count  487322.000000  504066.000000  402747.000000  110356.000000         0.0  \n",
      "mean     1925.654540    1677.301722    2043.343901    2021.051932         NaN  \n",
      "std      4214.010588    4366.361641    3811.219467    1773.670998         NaN  \n",
      "min         0.000000       0.000000       0.000000       0.000000         NaN  \n",
      "25%       699.000000     554.000000     679.000000     716.000000         NaN  \n",
      "50%      1423.730000    1156.000000    1690.000000    1761.805000         NaN  \n",
      "75%      2582.000000    2175.600000    2778.235000    2975.000000         NaN  \n",
      "max    152400.000000  138066.667000  113514.000000   41484.000000         NaN  \n",
      "<<=====================>>\n",
      "\n",
      "datasets_merged/df_rabi_merged_full.csv\n",
      "----------\n",
      "             Cluster  Area Sown (Ha)  Area Insured (Ha)  SI Per Ha (Inr/Ha)  \\\n",
      "count  616760.000000   244213.000000      557420.000000       616468.000000   \n",
      "mean        5.312131      234.100843          78.822807        47647.431891   \n",
      "std         3.234869     1065.305170         561.184109        22939.249918   \n",
      "min         1.000000        0.000000           0.000000         5500.000000   \n",
      "25%         3.000000       64.000000           0.328073        31000.000000   \n",
      "50%         5.000000      137.304348           5.663886        43309.000000   \n",
      "75%         8.000000      250.933657          41.953951        58758.000000   \n",
      "max        12.000000   279000.000000       43471.428571       215000.000000   \n",
      "\n",
      "       Sum Insured (Inr)  Indemnity Level    2002 Yield     2003 Yield  \\\n",
      "count       3.794260e+05    616791.000000  30033.000000  387439.000000   \n",
      "mean        9.469478e+06         1.029509   2294.892099    4617.457071   \n",
      "std         5.614450e+07         4.338518   1905.984576    6864.426330   \n",
      "min         0.000000e+00         0.700000    231.000000     106.000000   \n",
      "25%         2.063480e+06         0.800000   1585.000000     955.000000   \n",
      "50%         5.315310e+06         0.800000   2272.000000    1641.000000   \n",
      "75%         1.009637e+07         0.800000   2587.000000    3077.000000   \n",
      "max         1.687950e+10        90.000000  30523.000000   34542.000000   \n",
      "\n",
      "          2004 Yield     2005 Yield     2006 Yield     2007 Yield  \\\n",
      "count  390870.000000  465453.000000  551699.000000  561989.000000   \n",
      "mean     4430.693092    4365.900647    3880.070697    4000.875650   \n",
      "std      7015.431601    7122.848331    6221.504229    6798.102981   \n",
      "min       117.000000       0.000000       0.000000       0.000000   \n",
      "25%       849.000000     923.000000     898.000000     899.000000   \n",
      "50%      1685.000000    1625.000000    1706.365685    1617.000000   \n",
      "75%      2901.000000    2895.000000    3155.000000    3089.000000   \n",
      "max     49242.000000   42746.000000  126052.490000  166092.170000   \n",
      "\n",
      "          2008 Yield     2009 Yield     2010 Yield     2011 Yield  \\\n",
      "count  605236.000000  615259.000000  616274.000000  616554.000000   \n",
      "mean     3870.751879    4500.127091    4423.768382    4439.561899   \n",
      "std      6073.243663    7623.160072    7271.357128    7061.674691   \n",
      "min         0.000000       0.000000       0.000000       0.000000   \n",
      "25%       961.000000     934.000000     951.000000    1079.000000   \n",
      "50%      1603.052632    1640.800000    1675.000000    1837.000000   \n",
      "75%      3209.000000    3159.000000    3410.000000    3536.000000   \n",
      "max    149206.040000  115376.790000  210041.950000  216209.450000   \n",
      "\n",
      "          2012 Yield     2013 Yield     2014 Yield     2015 Yield  \\\n",
      "count  616474.000000  616544.000000  611386.000000  522308.000000   \n",
      "mean     4456.316893    4039.075519    3861.946616    4245.913102   \n",
      "std      7159.509434    6554.858086    6960.297248    7058.190625   \n",
      "min         0.000000       0.000000       0.000000       0.000000   \n",
      "25%      1102.000000     860.000000     720.000000     831.000000   \n",
      "50%      1946.000000    1851.000000    1437.000000    1668.000000   \n",
      "75%      3508.000000    3508.000000    3006.000000    3330.000000   \n",
      "max    217915.470000  220617.830000  179866.580000  102710.000000   \n",
      "\n",
      "          2016 Yield    2000 Yield   2001 Yield    2017 Yield  2018 Yield  \n",
      "count  115906.000000    789.000000   789.000000  37804.000000         0.0  \n",
      "mean     2655.429279   4669.068441  2611.662864   2766.065757         NaN  \n",
      "std      3210.816357   4370.591253  2413.015135   1653.525687         NaN  \n",
      "min         0.000000    977.000000   482.000000      0.000000         NaN  \n",
      "25%      1089.000000   1457.000000   858.000000   1559.430000         NaN  \n",
      "50%      2332.000000   1836.000000   977.000000   2866.000000         NaN  \n",
      "75%      3681.000000  10886.000000  5958.000000   3681.000000         NaN  \n",
      "max    135712.000000  14427.000000  7090.000000  23264.000000         NaN  \n",
      "<<=====================>>\n"
     ]
    }
   ],
   "source": [
    "# Print datasets summary for numerical columns\n",
    "for index in merged_filenames:\n",
    "    print('')\n",
    "    print(index)\n",
    "    print('----------')\n",
    "    print(df[index].describe())\n",
    "    print('<<=====================>>')"
   ]
  },
  {
   "cell_type": "markdown",
   "id": "d4927c1d",
   "metadata": {},
   "source": [
    "<h3>Chapter 3: Data exploratory</h3>\n",
    "<p>This chapter contains the documents on dataset exploratory. At the end of the process, there are conclusions of next steps that need to be performed before clustering to solve the findings from dataset overview.</p>"
   ]
  },
  {
   "cell_type": "markdown",
   "id": "839984fd",
   "metadata": {},
   "source": [
    "<h5>Chapter 3.1 - Null-values</h5>\n",
    "<p>Based on the datasets info, there are multiple columns on every dataset with data missing. A high-level observation indicates that only 'States', 'District', 'Season', 'Crop' and 'Indemnity Level' that consistently has 0 null-values across the files.</p>\n",
    "<p>Based on the glossary, the columns can be categorised into four types:\n",
    "    <ul>\n",
    "        <li>Administrative level: 'State', 'Cluster', 'District', 'Sub-District', 'Block', 'GP'</li>\n",
    "        <li>Season and type of crops: 'Season', 'Crop'</li>\n",
    "        <li>Premium for insurance: 'Area Sown (Ha)', 'Area Insured (Ha)', 'SI Per Ha (Inr/Ha)', 'Sum Insured (Inr)', 'Indemnity Level'</li>\n",
    "        <li>Production yield: '20xx Yield'</li>\n",
    "    </ul>\n",
    "Since the Season and type of crops columns has no null-values, they will not be included on this analysis. The analysis for treatment to null-value of each category can be performed seperately.\n",
    "</p>"
   ]
  },
  {
   "cell_type": "code",
   "execution_count": 9,
   "id": "19e74aad",
   "metadata": {},
   "outputs": [],
   "source": [
    "# Create function to check null-values\n",
    "def check_null(data):\n",
    "    sns.heatmap(data.isnull(),yticklabels=False,cbar=False,cmap='viridis')\n",
    "    df_check_null = {\n",
    "        'Null': data.isna().sum(),\n",
    "        'Non-null': data.count(),\n",
    "    }\n",
    "    return pd.DataFrame(df_check_null).transpose()"
   ]
  },
  {
   "cell_type": "code",
   "execution_count": 10,
   "id": "e66fa9db",
   "metadata": {},
   "outputs": [],
   "source": [
    "# Define columns based on categories\n",
    "cols_administrative = ['State', 'Cluster', 'District', 'Sub-District', 'Block', 'GP']\n",
    "cols_season_and_crops = ['Season', 'Crop']\n",
    "cols_insurances = ['Area Sown (Ha)', 'Area Insured (Ha)', 'SI Per Ha (Inr/Ha)', 'Sum Insured (Inr)', 'Indemnity Level']\n",
    "cols_production = ['13:'] # The production year available on each files are different."
   ]
  },
  {
   "cell_type": "markdown",
   "id": "9aa5d3d7",
   "metadata": {},
   "source": [
    "<h6>3.1.1a Null-values on administrative levels for Kharif Season</h6>"
   ]
  },
  {
   "cell_type": "code",
   "execution_count": 12,
   "id": "b69719c2",
   "metadata": {
    "scrolled": false
   },
   "outputs": [
    {
     "data": {
      "text/html": [
       "<div>\n",
       "<style scoped>\n",
       "    .dataframe tbody tr th:only-of-type {\n",
       "        vertical-align: middle;\n",
       "    }\n",
       "\n",
       "    .dataframe tbody tr th {\n",
       "        vertical-align: top;\n",
       "    }\n",
       "\n",
       "    .dataframe thead th {\n",
       "        text-align: right;\n",
       "    }\n",
       "</style>\n",
       "<table border=\"1\" class=\"dataframe\">\n",
       "  <thead>\n",
       "    <tr style=\"text-align: right;\">\n",
       "      <th></th>\n",
       "      <th>State</th>\n",
       "      <th>Cluster</th>\n",
       "      <th>District</th>\n",
       "      <th>Sub-District</th>\n",
       "      <th>Block</th>\n",
       "      <th>GP</th>\n",
       "    </tr>\n",
       "  </thead>\n",
       "  <tbody>\n",
       "    <tr>\n",
       "      <th>Null</th>\n",
       "      <td>0</td>\n",
       "      <td>0</td>\n",
       "      <td>0</td>\n",
       "      <td>81428</td>\n",
       "      <td>146064</td>\n",
       "      <td>136654</td>\n",
       "    </tr>\n",
       "    <tr>\n",
       "      <th>Non-null</th>\n",
       "      <td>511242</td>\n",
       "      <td>511242</td>\n",
       "      <td>511242</td>\n",
       "      <td>429814</td>\n",
       "      <td>365178</td>\n",
       "      <td>374588</td>\n",
       "    </tr>\n",
       "  </tbody>\n",
       "</table>\n",
       "</div>"
      ],
      "text/plain": [
       "           State  Cluster  District  Sub-District   Block      GP\n",
       "Null           0        0         0         81428  146064  136654\n",
       "Non-null  511242   511242    511242        429814  365178  374588"
      ]
     },
     "execution_count": 12,
     "metadata": {},
     "output_type": "execute_result"
    },
    {
     "data": {
      "image/png": "[encoded data removed]",
      "text/plain": [
       "<Figure size 432x288 with 1 Axes>"
      ]
     },
     "metadata": {
      "needs_background": "light"
     },
     "output_type": "display_data"
    }
   ],
   "source": [
    "# Overview of null values on Kharif dataset\n",
    "check_null(df_shorten(\"kharif\")[cols_administrative])"
   ]
  },
  {
   "cell_type": "markdown",
   "id": "681ec8f0",
   "metadata": {},
   "source": [
    "<h6>3.1.1b Null-values on administrative levels for Rabi Season</h6>"
   ]
  },
  {
   "cell_type": "code",
   "execution_count": 13,
   "id": "8c7eec31",
   "metadata": {
    "scrolled": true
   },
   "outputs": [
    {
     "data": {
      "text/html": [
       "<div>\n",
       "<style scoped>\n",
       "    .dataframe tbody tr th:only-of-type {\n",
       "        vertical-align: middle;\n",
       "    }\n",
       "\n",
       "    .dataframe tbody tr th {\n",
       "        vertical-align: top;\n",
       "    }\n",
       "\n",
       "    .dataframe thead th {\n",
       "        text-align: right;\n",
       "    }\n",
       "</style>\n",
       "<table border=\"1\" class=\"dataframe\">\n",
       "  <thead>\n",
       "    <tr style=\"text-align: right;\">\n",
       "      <th></th>\n",
       "      <th>State</th>\n",
       "      <th>Cluster</th>\n",
       "      <th>District</th>\n",
       "      <th>Sub-District</th>\n",
       "      <th>Block</th>\n",
       "      <th>GP</th>\n",
       "    </tr>\n",
       "  </thead>\n",
       "  <tbody>\n",
       "    <tr>\n",
       "      <th>Null</th>\n",
       "      <td>0</td>\n",
       "      <td>31</td>\n",
       "      <td>0</td>\n",
       "      <td>19034</td>\n",
       "      <td>69168</td>\n",
       "      <td>125188</td>\n",
       "    </tr>\n",
       "    <tr>\n",
       "      <th>Non-null</th>\n",
       "      <td>616791</td>\n",
       "      <td>616760</td>\n",
       "      <td>616791</td>\n",
       "      <td>597757</td>\n",
       "      <td>547623</td>\n",
       "      <td>491603</td>\n",
       "    </tr>\n",
       "  </tbody>\n",
       "</table>\n",
       "</div>"
      ],
      "text/plain": [
       "           State  Cluster  District  Sub-District   Block      GP\n",
       "Null           0       31         0         19034   69168  125188\n",
       "Non-null  616791   616760    616791        597757  547623  491603"
      ]
     },
     "execution_count": 13,
     "metadata": {},
     "output_type": "execute_result"
    },
    {
     "data": {
      "image/png": "[encoded data removed]",
      "text/plain": [
       "<Figure size 432x288 with 1 Axes>"
      ]
     },
     "metadata": {
      "needs_background": "light"
     },
     "output_type": "display_data"
    }
   ],
   "source": [
    "# Overview of null values on Rabi dataset\n",
    "check_null(df_shorten(\"rabi\")[cols_administrative])"
   ]
  },
  {
   "cell_type": "markdown",
   "id": "a4ff41ff",
   "metadata": {},
   "source": [
    "<h6>Next step for missing values on administrative levels:</h6>\n",
    "<p>Administrative level data are used to analyse the granularity of the data. Since the values in administrative level columns are categorical, additional data is required to fill in the missing values.</p>\n",
    "<p>As the Glossary explained, <b>most calculation are performed on District level</b>, e.g.: averaging the historical production yield. Thus, the missing value below District level can be considered not significant for this analysis.</p>\n",
    "<hr>"
   ]
  },
  {
   "cell_type": "markdown",
   "id": "d6326a6e",
   "metadata": {},
   "source": [
    "<h6>3.1.2a Null-values on insurances parameters for Kharif Season</h6>"
   ]
  },
  {
   "cell_type": "code",
   "execution_count": 14,
   "id": "ce686060",
   "metadata": {},
   "outputs": [
    {
     "data": {
      "text/html": [
       "<div>\n",
       "<style scoped>\n",
       "    .dataframe tbody tr th:only-of-type {\n",
       "        vertical-align: middle;\n",
       "    }\n",
       "\n",
       "    .dataframe tbody tr th {\n",
       "        vertical-align: top;\n",
       "    }\n",
       "\n",
       "    .dataframe thead th {\n",
       "        text-align: right;\n",
       "    }\n",
       "</style>\n",
       "<table border=\"1\" class=\"dataframe\">\n",
       "  <thead>\n",
       "    <tr style=\"text-align: right;\">\n",
       "      <th></th>\n",
       "      <th>Area Sown (Ha)</th>\n",
       "      <th>Area Insured (Ha)</th>\n",
       "      <th>SI Per Ha (Inr/Ha)</th>\n",
       "      <th>Sum Insured (Inr)</th>\n",
       "      <th>Indemnity Level</th>\n",
       "    </tr>\n",
       "  </thead>\n",
       "  <tbody>\n",
       "    <tr>\n",
       "      <th>Null</th>\n",
       "      <td>275251</td>\n",
       "      <td>53754</td>\n",
       "      <td>27559</td>\n",
       "      <td>136547</td>\n",
       "      <td>0</td>\n",
       "    </tr>\n",
       "    <tr>\n",
       "      <th>Non-null</th>\n",
       "      <td>235991</td>\n",
       "      <td>457488</td>\n",
       "      <td>483683</td>\n",
       "      <td>374695</td>\n",
       "      <td>511242</td>\n",
       "    </tr>\n",
       "  </tbody>\n",
       "</table>\n",
       "</div>"
      ],
      "text/plain": [
       "          Area Sown (Ha)  Area Insured (Ha)  SI Per Ha (Inr/Ha)  \\\n",
       "Null              275251              53754               27559   \n",
       "Non-null          235991             457488              483683   \n",
       "\n",
       "          Sum Insured (Inr)  Indemnity Level  \n",
       "Null                 136547                0  \n",
       "Non-null             374695           511242  "
      ]
     },
     "execution_count": 14,
     "metadata": {},
     "output_type": "execute_result"
    },
    {
     "data": {
      "image/png": "[encoded data removed]",
      "text/plain": [
       "<Figure size 432x288 with 1 Axes>"
      ]
     },
     "metadata": {
      "needs_background": "light"
     },
     "output_type": "display_data"
    }
   ],
   "source": [
    "# Overview of null values on Kharif dataset\n",
    "check_null(df_shorten(\"kharif\")[cols_insurances])"
   ]
  },
  {
   "cell_type": "markdown",
   "id": "377294e3",
   "metadata": {},
   "source": [
    "<h6>3.1.2b Null-values on insurances parameters for Rabi Season</h6>"
   ]
  },
  {
   "cell_type": "code",
   "execution_count": 15,
   "id": "0782b4ea",
   "metadata": {},
   "outputs": [
    {
     "data": {
      "text/html": [
       "<div>\n",
       "<style scoped>\n",
       "    .dataframe tbody tr th:only-of-type {\n",
       "        vertical-align: middle;\n",
       "    }\n",
       "\n",
       "    .dataframe tbody tr th {\n",
       "        vertical-align: top;\n",
       "    }\n",
       "\n",
       "    .dataframe thead th {\n",
       "        text-align: right;\n",
       "    }\n",
       "</style>\n",
       "<table border=\"1\" class=\"dataframe\">\n",
       "  <thead>\n",
       "    <tr style=\"text-align: right;\">\n",
       "      <th></th>\n",
       "      <th>Area Sown (Ha)</th>\n",
       "      <th>Area Insured (Ha)</th>\n",
       "      <th>SI Per Ha (Inr/Ha)</th>\n",
       "      <th>Sum Insured (Inr)</th>\n",
       "      <th>Indemnity Level</th>\n",
       "    </tr>\n",
       "  </thead>\n",
       "  <tbody>\n",
       "    <tr>\n",
       "      <th>Null</th>\n",
       "      <td>372578</td>\n",
       "      <td>59371</td>\n",
       "      <td>323</td>\n",
       "      <td>237365</td>\n",
       "      <td>0</td>\n",
       "    </tr>\n",
       "    <tr>\n",
       "      <th>Non-null</th>\n",
       "      <td>244213</td>\n",
       "      <td>557420</td>\n",
       "      <td>616468</td>\n",
       "      <td>379426</td>\n",
       "      <td>616791</td>\n",
       "    </tr>\n",
       "  </tbody>\n",
       "</table>\n",
       "</div>"
      ],
      "text/plain": [
       "          Area Sown (Ha)  Area Insured (Ha)  SI Per Ha (Inr/Ha)  \\\n",
       "Null              372578              59371                 323   \n",
       "Non-null          244213             557420              616468   \n",
       "\n",
       "          Sum Insured (Inr)  Indemnity Level  \n",
       "Null                 237365                0  \n",
       "Non-null             379426           616791  "
      ]
     },
     "execution_count": 15,
     "metadata": {},
     "output_type": "execute_result"
    },
    {
     "data": {
      "image/png": "[encoded data removed]",
      "text/plain": [
       "<Figure size 432x288 with 1 Axes>"
      ]
     },
     "metadata": {
      "needs_background": "light"
     },
     "output_type": "display_data"
    }
   ],
   "source": [
    "# Overview of null values on Rabi dataset\n",
    "check_null(df_shorten(\"rabi\")[cols_insurances])"
   ]
  },
  {
   "cell_type": "markdown",
   "id": "f3142eac",
   "metadata": {},
   "source": [
    "<h6>Next step for missing values on insurances parameters:</h6>\n",
    "<p>The columns that are crucial for the clustering are 'Area Insured (Ha)', 'SI Per Ha (Inr/Ha)', 'Sum Insured (Inr)' and 'Indemnity Level' since those values will be used to determine the 'Threshold Yield' and 'Loss Calculation'. <b>To  fill the missing values, the following formula will be utilised</b>:\n",
    "<h5 align='center'> 'Sum Insured (Inr)' = 'Area Insured (Ha)' * 'SI Per Ha (Inr/Ha)' </h5>\n",
    "<br/>\n",
    "<p>The formula however can only be used if there is only one missing value among the three. In case there are more than 2 parameters missing, the data might be imputed by <b>cross-referencing data from other record within the same district group</b>.</p>"
   ]
  },
  {
   "cell_type": "markdown",
   "id": "44d528a4",
   "metadata": {},
   "source": [
    "<h6>3.1.3a Null-values on production yield for Kharif Season</h6>"
   ]
  },
  {
   "cell_type": "code",
   "execution_count": 16,
   "id": "8683b397",
   "metadata": {},
   "outputs": [
    {
     "data": {
      "text/html": [
       "<div>\n",
       "<style scoped>\n",
       "    .dataframe tbody tr th:only-of-type {\n",
       "        vertical-align: middle;\n",
       "    }\n",
       "\n",
       "    .dataframe tbody tr th {\n",
       "        vertical-align: top;\n",
       "    }\n",
       "\n",
       "    .dataframe thead th {\n",
       "        text-align: right;\n",
       "    }\n",
       "</style>\n",
       "<table border=\"1\" class=\"dataframe\">\n",
       "  <thead>\n",
       "    <tr style=\"text-align: right;\">\n",
       "      <th></th>\n",
       "      <th>2000 Yield</th>\n",
       "      <th>2001 Yield</th>\n",
       "      <th>2002 Yield</th>\n",
       "      <th>2003 Yield</th>\n",
       "      <th>2004 Yield</th>\n",
       "      <th>2005 Yield</th>\n",
       "      <th>2006 Yield</th>\n",
       "      <th>2007 Yield</th>\n",
       "      <th>2008 Yield</th>\n",
       "      <th>2009 Yield</th>\n",
       "      <th>2010 Yield</th>\n",
       "      <th>2011 Yield</th>\n",
       "      <th>2012 Yield</th>\n",
       "      <th>2013 Yield</th>\n",
       "      <th>2014 Yield</th>\n",
       "      <th>2015 Yield</th>\n",
       "      <th>2016 Yield</th>\n",
       "      <th>2017 Yield</th>\n",
       "      <th>2018 Yield</th>\n",
       "      <th>ID</th>\n",
       "    </tr>\n",
       "  </thead>\n",
       "  <tbody>\n",
       "    <tr>\n",
       "      <th>Null</th>\n",
       "      <td>497560</td>\n",
       "      <td>497578</td>\n",
       "      <td>496559</td>\n",
       "      <td>343381</td>\n",
       "      <td>347278</td>\n",
       "      <td>255215</td>\n",
       "      <td>133016</td>\n",
       "      <td>90393</td>\n",
       "      <td>86345</td>\n",
       "      <td>71415</td>\n",
       "      <td>2741</td>\n",
       "      <td>1816</td>\n",
       "      <td>2541</td>\n",
       "      <td>2672</td>\n",
       "      <td>23920</td>\n",
       "      <td>7176</td>\n",
       "      <td>108495</td>\n",
       "      <td>400886</td>\n",
       "      <td>511242</td>\n",
       "      <td>0</td>\n",
       "    </tr>\n",
       "    <tr>\n",
       "      <th>Non-null</th>\n",
       "      <td>13682</td>\n",
       "      <td>13664</td>\n",
       "      <td>14683</td>\n",
       "      <td>167861</td>\n",
       "      <td>163964</td>\n",
       "      <td>256027</td>\n",
       "      <td>378226</td>\n",
       "      <td>420849</td>\n",
       "      <td>424897</td>\n",
       "      <td>439827</td>\n",
       "      <td>508501</td>\n",
       "      <td>509426</td>\n",
       "      <td>508701</td>\n",
       "      <td>508570</td>\n",
       "      <td>487322</td>\n",
       "      <td>504066</td>\n",
       "      <td>402747</td>\n",
       "      <td>110356</td>\n",
       "      <td>0</td>\n",
       "      <td>511242</td>\n",
       "    </tr>\n",
       "  </tbody>\n",
       "</table>\n",
       "</div>"
      ],
      "text/plain": [
       "          2000 Yield  2001 Yield  2002 Yield  2003 Yield  2004 Yield  \\\n",
       "Null          497560      497578      496559      343381      347278   \n",
       "Non-null       13682       13664       14683      167861      163964   \n",
       "\n",
       "          2005 Yield  2006 Yield  2007 Yield  2008 Yield  2009 Yield  \\\n",
       "Null          255215      133016       90393       86345       71415   \n",
       "Non-null      256027      378226      420849      424897      439827   \n",
       "\n",
       "          2010 Yield  2011 Yield  2012 Yield  2013 Yield  2014 Yield  \\\n",
       "Null            2741        1816        2541        2672       23920   \n",
       "Non-null      508501      509426      508701      508570      487322   \n",
       "\n",
       "          2015 Yield  2016 Yield  2017 Yield  2018 Yield      ID  \n",
       "Null            7176      108495      400886      511242       0  \n",
       "Non-null      504066      402747      110356           0  511242  "
      ]
     },
     "execution_count": 16,
     "metadata": {},
     "output_type": "execute_result"
    },
    {
     "data": {
      "image/png": "[encoded data removed]",
      "text/plain": [
       "<Figure size 432x288 with 1 Axes>"
      ]
     },
     "metadata": {
      "needs_background": "light"
     },
     "output_type": "display_data"
    }
   ],
   "source": [
    "# Overview of null values on dataset - Kharif 2017\n",
    "check_null(df_shorten(\"kharif\").iloc[:,13:])"
   ]
  },
  {
   "cell_type": "markdown",
   "id": "9ff443e2",
   "metadata": {},
   "source": [
    "<h6>3.1.3b Null-values on production yield for Rabi Season</h6>"
   ]
  },
  {
   "cell_type": "code",
   "execution_count": 17,
   "id": "34e92d47",
   "metadata": {},
   "outputs": [
    {
     "data": {
      "text/html": [
       "<div>\n",
       "<style scoped>\n",
       "    .dataframe tbody tr th:only-of-type {\n",
       "        vertical-align: middle;\n",
       "    }\n",
       "\n",
       "    .dataframe tbody tr th {\n",
       "        vertical-align: top;\n",
       "    }\n",
       "\n",
       "    .dataframe thead th {\n",
       "        text-align: right;\n",
       "    }\n",
       "</style>\n",
       "<table border=\"1\" class=\"dataframe\">\n",
       "  <thead>\n",
       "    <tr style=\"text-align: right;\">\n",
       "      <th></th>\n",
       "      <th>2002 Yield</th>\n",
       "      <th>2003 Yield</th>\n",
       "      <th>2004 Yield</th>\n",
       "      <th>2005 Yield</th>\n",
       "      <th>2006 Yield</th>\n",
       "      <th>2007 Yield</th>\n",
       "      <th>2008 Yield</th>\n",
       "      <th>2009 Yield</th>\n",
       "      <th>2010 Yield</th>\n",
       "      <th>2011 Yield</th>\n",
       "      <th>2012 Yield</th>\n",
       "      <th>2013 Yield</th>\n",
       "      <th>2014 Yield</th>\n",
       "      <th>2015 Yield</th>\n",
       "      <th>2016 Yield</th>\n",
       "      <th>2000 Yield</th>\n",
       "      <th>2001 Yield</th>\n",
       "      <th>ID</th>\n",
       "      <th>2017 Yield</th>\n",
       "      <th>2018 Yield</th>\n",
       "    </tr>\n",
       "  </thead>\n",
       "  <tbody>\n",
       "    <tr>\n",
       "      <th>Null</th>\n",
       "      <td>586758</td>\n",
       "      <td>229352</td>\n",
       "      <td>225921</td>\n",
       "      <td>151338</td>\n",
       "      <td>65092</td>\n",
       "      <td>54802</td>\n",
       "      <td>11555</td>\n",
       "      <td>1532</td>\n",
       "      <td>517</td>\n",
       "      <td>237</td>\n",
       "      <td>317</td>\n",
       "      <td>247</td>\n",
       "      <td>5405</td>\n",
       "      <td>94483</td>\n",
       "      <td>500885</td>\n",
       "      <td>616002</td>\n",
       "      <td>616002</td>\n",
       "      <td>0</td>\n",
       "      <td>578987</td>\n",
       "      <td>616791</td>\n",
       "    </tr>\n",
       "    <tr>\n",
       "      <th>Non-null</th>\n",
       "      <td>30033</td>\n",
       "      <td>387439</td>\n",
       "      <td>390870</td>\n",
       "      <td>465453</td>\n",
       "      <td>551699</td>\n",
       "      <td>561989</td>\n",
       "      <td>605236</td>\n",
       "      <td>615259</td>\n",
       "      <td>616274</td>\n",
       "      <td>616554</td>\n",
       "      <td>616474</td>\n",
       "      <td>616544</td>\n",
       "      <td>611386</td>\n",
       "      <td>522308</td>\n",
       "      <td>115906</td>\n",
       "      <td>789</td>\n",
       "      <td>789</td>\n",
       "      <td>616791</td>\n",
       "      <td>37804</td>\n",
       "      <td>0</td>\n",
       "    </tr>\n",
       "  </tbody>\n",
       "</table>\n",
       "</div>"
      ],
      "text/plain": [
       "          2002 Yield  2003 Yield  2004 Yield  2005 Yield  2006 Yield  \\\n",
       "Null          586758      229352      225921      151338       65092   \n",
       "Non-null       30033      387439      390870      465453      551699   \n",
       "\n",
       "          2007 Yield  2008 Yield  2009 Yield  2010 Yield  2011 Yield  \\\n",
       "Null           54802       11555        1532         517         237   \n",
       "Non-null      561989      605236      615259      616274      616554   \n",
       "\n",
       "          2012 Yield  2013 Yield  2014 Yield  2015 Yield  2016 Yield  \\\n",
       "Null             317         247        5405       94483      500885   \n",
       "Non-null      616474      616544      611386      522308      115906   \n",
       "\n",
       "          2000 Yield  2001 Yield      ID  2017 Yield  2018 Yield  \n",
       "Null          616002      616002       0      578987      616791  \n",
       "Non-null         789         789  616791       37804           0  "
      ]
     },
     "execution_count": 17,
     "metadata": {},
     "output_type": "execute_result"
    },
    {
     "data": {
      "image/png": "[encoded data removed]",
      "text/plain": [
       "<Figure size 432x288 with 1 Axes>"
      ]
     },
     "metadata": {
      "needs_background": "light"
     },
     "output_type": "display_data"
    }
   ],
   "source": [
    "# Overview of null values on dataset - Rabi 2017\n",
    "check_null(df_shorten(\"rabi\").iloc[:,13:])"
   ]
  },
  {
   "cell_type": "markdown",
   "id": "12fbdfcc",
   "metadata": {},
   "source": [
    "<h6>Next step for missing values on production yield:</h6>\n",
    "<p>The production data will be used on calculating Threshold Yield and Loss Calculation is only the last 7 years of the given year. Thus, the pre-processing shall <b>exclude the columns that is out of those 7 years range.</b> However, there will be still some missing values after the exclusion of the unused columns.</p>\n",
    "<p>From the glossary, there are yield columns that are filled with the average of district yield. For these columns, the <b>null-values will be filled by the average of the districts.</b></p>\n",
    "<p>For the columns with more granular yield details, the treatment can be performed by:\n",
    "<ul>\n",
    "    <li>replacing the missing data with Mean/Median/Mode of the column, or</li>\n",
    "    <li>use regression to predict the missing value</li>\n",
    "</ul>\n",
    "Since replacing the missing data with Mean/Median/Mode of the column adds variance and bias, the Mean/Median/Mode of the non-null values will be tested whether it can represent the whole data with 95% confidence. <b>If the statistics pass is within the 95% confidence level, the null-values shall be filled using the statistics</b>. Otherwise, the null-values shall be <b>filled using the regression of the other years.</b></p>\n",
    "<b><i>Source:</i></b> <a href=\"https://analyticsindiamag.com/5-ways-handle-missing-values-machine-learning-datasets/\">https://analyticsindiamag.com/5-ways-handle-missing-values-machine-learning-datasets/</a>\n",
    "<hr>"
   ]
  }
 ],
 "metadata": {
  "kernelspec": {
   "display_name": "Python 3 (ipykernel)",
   "language": "python",
   "name": "python3"
  },
  "language_info": {
   "codemirror_mode": {
    "name": "ipython",
    "version": 3
   },
   "file_extension": ".py",
   "mimetype": "text/x-python",
   "name": "python",
   "nbconvert_exporter": "python",
   "pygments_lexer": "ipython3",
   "version": "3.8.8"
  }
 },
 "nbformat": 4,
 "nbformat_minor": 5
}
